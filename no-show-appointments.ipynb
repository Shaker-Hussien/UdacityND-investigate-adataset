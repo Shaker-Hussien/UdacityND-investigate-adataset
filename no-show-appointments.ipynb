{
 "cells": [
  {
   "cell_type": "markdown",
   "metadata": {},
   "source": [
    "# Project: Investigate a Dataset (No-Show Appointments)\n",
    "\n",
    "- This dataset collects information from 100k medical appointments in Brazil and is focused on the question of whether or not patients show up for their appointment. A number of characteristics about the patient are included in each row.\n",
    "    - ‘ScheduledDay’ tells us on what day the patient set up their appointment.\n",
    "    - ‘Neighborhood’ indicates the location of the hospital.\n",
    "    - ‘Scholarship’ indicates whether or not the patient is enrolled in Brasilian welfare program Bolsa Família.\n",
    "    - Be careful about the encoding of the last column: it says ‘No’ if the patient showed up to their appointment, and ‘Yes’ if they did not show up.\n",
    "    \n",
    "    \n",
    "- **The Questions We Want to Answer is**:\n",
    "    - What factors are important for us to know in order to predict if a patient will show up for their scheduled appointment?\n",
    "\n",
    "## Table of Contents\n",
    "<ul>\n",
    "<li><a href=\"#intro\">Introduction</a></li>\n",
    "<li><a href=\"#wrangling\">Data Wrangling</a></li>\n",
    "<li><a href=\"#eda\">Exploratory Data Analysis</a></li>\n",
    "<li><a href=\"#limitations\">Limitations</a></li>\n",
    "<li><a href=\"#conclusions\">Conclusions</a></li>\n",
    "</ul>"
   ]
  },
  {
   "cell_type": "markdown",
   "metadata": {},
   "source": [
    "<a id='intro'></a>\n",
    "## Introduction"
   ]
  },
  {
   "cell_type": "code",
   "execution_count": 1,
   "metadata": {},
   "outputs": [],
   "source": [
    "import numpy as np\n",
    "import pandas as pd\n",
    "import matplotlib.pyplot as plt\n",
    "import seaborn as sns\n",
    "%matplotlib inline"
   ]
  },
  {
   "cell_type": "markdown",
   "metadata": {},
   "source": [
    "<a id='wrangling'></a>\n",
    "## Data Wrangling\n",
    "\n",
    "- Data wrangling consists of three phases and the whole process are iterative in any phase:\n",
    "    - Gathering data.\n",
    "    - Assessing data.\n",
    "    - Cleaning data."
   ]
  },
  {
   "cell_type": "markdown",
   "metadata": {},
   "source": [
    "### 1.Gathering Data\n",
    "### Load noshowappointments.csv "
   ]
  },
  {
   "cell_type": "code",
   "execution_count": 2,
   "metadata": {},
   "outputs": [],
   "source": [
    "appoints_df = pd.read_csv('datasets/noshowappointments.csv')"
   ]
  },
  {
   "cell_type": "markdown",
   "metadata": {},
   "source": [
    "### 2.Assessing Data\n",
    "- get info , stats about data\n",
    "\n",
    "### findings:\n",
    "- Interseting Columns are ['Gender', 'ScheduledDay','AppointmentDay', 'Age', 'Neighbourhood', 'Scholarship', 'Hipertension', 'Diabetes', 'Alcoholism', 'Handcap', 'SMS_received', 'No-show']\n",
    "\n",
    "- 'PatientId', 'AppointmentID' are identifiers columns for patient and appointment  and should be dropped.\n",
    "\n",
    "- 'ScheduledDay','AppointmentDay' are strings and should be of type datetime.\n",
    "\n",
    "- 'Age' column has 1 entry with value -1 (could be removed) and 3539 entry with value 0 (newborn).\n",
    "\n",
    "- 'Scholarship', 'Hipertension','Diabetes', 'Alcoholism', 'SMS_received', 'No-show' are integers and should be of type boolean"
   ]
  },
  {
   "cell_type": "code",
   "execution_count": 3,
   "metadata": {
    "scrolled": false
   },
   "outputs": [
    {
     "data": {
      "text/html": [
       "<div>\n",
       "<style scoped>\n",
       "    .dataframe tbody tr th:only-of-type {\n",
       "        vertical-align: middle;\n",
       "    }\n",
       "\n",
       "    .dataframe tbody tr th {\n",
       "        vertical-align: top;\n",
       "    }\n",
       "\n",
       "    .dataframe thead th {\n",
       "        text-align: right;\n",
       "    }\n",
       "</style>\n",
       "<table border=\"1\" class=\"dataframe\">\n",
       "  <thead>\n",
       "    <tr style=\"text-align: right;\">\n",
       "      <th></th>\n",
       "      <th>PatientId</th>\n",
       "      <th>AppointmentID</th>\n",
       "      <th>Gender</th>\n",
       "      <th>ScheduledDay</th>\n",
       "      <th>AppointmentDay</th>\n",
       "      <th>Age</th>\n",
       "      <th>Neighbourhood</th>\n",
       "      <th>Scholarship</th>\n",
       "      <th>Hipertension</th>\n",
       "      <th>Diabetes</th>\n",
       "      <th>Alcoholism</th>\n",
       "      <th>Handcap</th>\n",
       "      <th>SMS_received</th>\n",
       "      <th>No-show</th>\n",
       "    </tr>\n",
       "  </thead>\n",
       "  <tbody>\n",
       "    <tr>\n",
       "      <th>9363</th>\n",
       "      <td>5.186849e+14</td>\n",
       "      <td>5650561</td>\n",
       "      <td>M</td>\n",
       "      <td>2016-05-03T07:52:31Z</td>\n",
       "      <td>2016-05-03T00:00:00Z</td>\n",
       "      <td>59</td>\n",
       "      <td>SANTOS DUMONT</td>\n",
       "      <td>1</td>\n",
       "      <td>1</td>\n",
       "      <td>0</td>\n",
       "      <td>0</td>\n",
       "      <td>0</td>\n",
       "      <td>0</td>\n",
       "      <td>Yes</td>\n",
       "    </tr>\n",
       "    <tr>\n",
       "      <th>52871</th>\n",
       "      <td>3.626268e+13</td>\n",
       "      <td>5657306</td>\n",
       "      <td>F</td>\n",
       "      <td>2016-05-04T09:11:44Z</td>\n",
       "      <td>2016-05-04T00:00:00Z</td>\n",
       "      <td>24</td>\n",
       "      <td>SANTO ANDRÉ</td>\n",
       "      <td>0</td>\n",
       "      <td>0</td>\n",
       "      <td>0</td>\n",
       "      <td>0</td>\n",
       "      <td>0</td>\n",
       "      <td>0</td>\n",
       "      <td>No</td>\n",
       "    </tr>\n",
       "    <tr>\n",
       "      <th>63309</th>\n",
       "      <td>2.581487e+12</td>\n",
       "      <td>5657668</td>\n",
       "      <td>F</td>\n",
       "      <td>2016-05-04T09:43:45Z</td>\n",
       "      <td>2016-05-04T00:00:00Z</td>\n",
       "      <td>23</td>\n",
       "      <td>JARDIM DA PENHA</td>\n",
       "      <td>0</td>\n",
       "      <td>0</td>\n",
       "      <td>0</td>\n",
       "      <td>0</td>\n",
       "      <td>0</td>\n",
       "      <td>0</td>\n",
       "      <td>No</td>\n",
       "    </tr>\n",
       "    <tr>\n",
       "      <th>85003</th>\n",
       "      <td>5.924345e+11</td>\n",
       "      <td>5759691</td>\n",
       "      <td>F</td>\n",
       "      <td>2016-06-01T13:32:09Z</td>\n",
       "      <td>2016-06-08T00:00:00Z</td>\n",
       "      <td>7</td>\n",
       "      <td>PRAIA DO CANTO</td>\n",
       "      <td>0</td>\n",
       "      <td>0</td>\n",
       "      <td>0</td>\n",
       "      <td>0</td>\n",
       "      <td>0</td>\n",
       "      <td>1</td>\n",
       "      <td>Yes</td>\n",
       "    </tr>\n",
       "    <tr>\n",
       "      <th>49631</th>\n",
       "      <td>5.414268e+10</td>\n",
       "      <td>5565994</td>\n",
       "      <td>M</td>\n",
       "      <td>2016-04-11T09:44:56Z</td>\n",
       "      <td>2016-05-18T00:00:00Z</td>\n",
       "      <td>66</td>\n",
       "      <td>CENTRO</td>\n",
       "      <td>0</td>\n",
       "      <td>1</td>\n",
       "      <td>1</td>\n",
       "      <td>0</td>\n",
       "      <td>0</td>\n",
       "      <td>0</td>\n",
       "      <td>No</td>\n",
       "    </tr>\n",
       "  </tbody>\n",
       "</table>\n",
       "</div>"
      ],
      "text/plain": [
       "          PatientId  AppointmentID Gender          ScheduledDay  \\\n",
       "9363   5.186849e+14        5650561      M  2016-05-03T07:52:31Z   \n",
       "52871  3.626268e+13        5657306      F  2016-05-04T09:11:44Z   \n",
       "63309  2.581487e+12        5657668      F  2016-05-04T09:43:45Z   \n",
       "85003  5.924345e+11        5759691      F  2016-06-01T13:32:09Z   \n",
       "49631  5.414268e+10        5565994      M  2016-04-11T09:44:56Z   \n",
       "\n",
       "             AppointmentDay  Age    Neighbourhood  Scholarship  Hipertension  \\\n",
       "9363   2016-05-03T00:00:00Z   59    SANTOS DUMONT            1             1   \n",
       "52871  2016-05-04T00:00:00Z   24      SANTO ANDRÉ            0             0   \n",
       "63309  2016-05-04T00:00:00Z   23  JARDIM DA PENHA            0             0   \n",
       "85003  2016-06-08T00:00:00Z    7   PRAIA DO CANTO            0             0   \n",
       "49631  2016-05-18T00:00:00Z   66           CENTRO            0             1   \n",
       "\n",
       "       Diabetes  Alcoholism  Handcap  SMS_received No-show  \n",
       "9363          0           0        0             0     Yes  \n",
       "52871         0           0        0             0      No  \n",
       "63309         0           0        0             0      No  \n",
       "85003         0           0        0             1     Yes  \n",
       "49631         1           0        0             0      No  "
      ]
     },
     "execution_count": 3,
     "metadata": {},
     "output_type": "execute_result"
    }
   ],
   "source": [
    "appoints_df.sample(5)"
   ]
  },
  {
   "cell_type": "code",
   "execution_count": 4,
   "metadata": {},
   "outputs": [],
   "source": [
    "# edit columns names\n",
    "\n",
    "appoints_df.columns = [col.strip().lower().replace('-','_') for col in appoints_df.columns.tolist()]\n",
    "appoints_df.rename(columns = {'handcap':'handicap'},inplace=True)"
   ]
  },
  {
   "cell_type": "code",
   "execution_count": 5,
   "metadata": {},
   "outputs": [
    {
     "data": {
      "text/plain": [
       "Index(['patientid', 'appointmentid', 'gender', 'scheduledday',\n",
       "       'appointmentday', 'age', 'neighbourhood', 'scholarship', 'hipertension',\n",
       "       'diabetes', 'alcoholism', 'handicap', 'sms_received', 'no_show'],\n",
       "      dtype='object')"
      ]
     },
     "execution_count": 5,
     "metadata": {},
     "output_type": "execute_result"
    }
   ],
   "source": [
    "appoints_df.columns"
   ]
  },
  {
   "cell_type": "code",
   "execution_count": 6,
   "metadata": {},
   "outputs": [
    {
     "name": "stdout",
     "output_type": "stream",
     "text": [
      "<class 'pandas.core.frame.DataFrame'>\n",
      "RangeIndex: 110527 entries, 0 to 110526\n",
      "Data columns (total 14 columns):\n",
      " #   Column          Non-Null Count   Dtype  \n",
      "---  ------          --------------   -----  \n",
      " 0   patientid       110527 non-null  float64\n",
      " 1   appointmentid   110527 non-null  int64  \n",
      " 2   gender          110527 non-null  object \n",
      " 3   scheduledday    110527 non-null  object \n",
      " 4   appointmentday  110527 non-null  object \n",
      " 5   age             110527 non-null  int64  \n",
      " 6   neighbourhood   110527 non-null  object \n",
      " 7   scholarship     110527 non-null  int64  \n",
      " 8   hipertension    110527 non-null  int64  \n",
      " 9   diabetes        110527 non-null  int64  \n",
      " 10  alcoholism      110527 non-null  int64  \n",
      " 11  handicap        110527 non-null  int64  \n",
      " 12  sms_received    110527 non-null  int64  \n",
      " 13  no_show         110527 non-null  object \n",
      "dtypes: float64(1), int64(8), object(5)\n",
      "memory usage: 11.8+ MB\n"
     ]
    }
   ],
   "source": [
    "appoints_df.info()"
   ]
  },
  {
   "cell_type": "code",
   "execution_count": 7,
   "metadata": {},
   "outputs": [
    {
     "data": {
      "text/html": [
       "<div>\n",
       "<style scoped>\n",
       "    .dataframe tbody tr th:only-of-type {\n",
       "        vertical-align: middle;\n",
       "    }\n",
       "\n",
       "    .dataframe tbody tr th {\n",
       "        vertical-align: top;\n",
       "    }\n",
       "\n",
       "    .dataframe thead th {\n",
       "        text-align: right;\n",
       "    }\n",
       "</style>\n",
       "<table border=\"1\" class=\"dataframe\">\n",
       "  <thead>\n",
       "    <tr style=\"text-align: right;\">\n",
       "      <th></th>\n",
       "      <th>count</th>\n",
       "      <th>mean</th>\n",
       "      <th>std</th>\n",
       "      <th>min</th>\n",
       "      <th>25%</th>\n",
       "      <th>50%</th>\n",
       "      <th>75%</th>\n",
       "      <th>max</th>\n",
       "    </tr>\n",
       "  </thead>\n",
       "  <tbody>\n",
       "    <tr>\n",
       "      <th>patientid</th>\n",
       "      <td>110527.0</td>\n",
       "      <td>1.474963e+14</td>\n",
       "      <td>2.560949e+14</td>\n",
       "      <td>3.921784e+04</td>\n",
       "      <td>4.172614e+12</td>\n",
       "      <td>3.173184e+13</td>\n",
       "      <td>9.439172e+13</td>\n",
       "      <td>9.999816e+14</td>\n",
       "    </tr>\n",
       "    <tr>\n",
       "      <th>appointmentid</th>\n",
       "      <td>110527.0</td>\n",
       "      <td>5.675305e+06</td>\n",
       "      <td>7.129575e+04</td>\n",
       "      <td>5.030230e+06</td>\n",
       "      <td>5.640286e+06</td>\n",
       "      <td>5.680573e+06</td>\n",
       "      <td>5.725524e+06</td>\n",
       "      <td>5.790484e+06</td>\n",
       "    </tr>\n",
       "    <tr>\n",
       "      <th>age</th>\n",
       "      <td>110527.0</td>\n",
       "      <td>3.708887e+01</td>\n",
       "      <td>2.311020e+01</td>\n",
       "      <td>-1.000000e+00</td>\n",
       "      <td>1.800000e+01</td>\n",
       "      <td>3.700000e+01</td>\n",
       "      <td>5.500000e+01</td>\n",
       "      <td>1.150000e+02</td>\n",
       "    </tr>\n",
       "    <tr>\n",
       "      <th>scholarship</th>\n",
       "      <td>110527.0</td>\n",
       "      <td>9.826558e-02</td>\n",
       "      <td>2.976748e-01</td>\n",
       "      <td>0.000000e+00</td>\n",
       "      <td>0.000000e+00</td>\n",
       "      <td>0.000000e+00</td>\n",
       "      <td>0.000000e+00</td>\n",
       "      <td>1.000000e+00</td>\n",
       "    </tr>\n",
       "    <tr>\n",
       "      <th>hipertension</th>\n",
       "      <td>110527.0</td>\n",
       "      <td>1.972459e-01</td>\n",
       "      <td>3.979213e-01</td>\n",
       "      <td>0.000000e+00</td>\n",
       "      <td>0.000000e+00</td>\n",
       "      <td>0.000000e+00</td>\n",
       "      <td>0.000000e+00</td>\n",
       "      <td>1.000000e+00</td>\n",
       "    </tr>\n",
       "    <tr>\n",
       "      <th>diabetes</th>\n",
       "      <td>110527.0</td>\n",
       "      <td>7.186479e-02</td>\n",
       "      <td>2.582651e-01</td>\n",
       "      <td>0.000000e+00</td>\n",
       "      <td>0.000000e+00</td>\n",
       "      <td>0.000000e+00</td>\n",
       "      <td>0.000000e+00</td>\n",
       "      <td>1.000000e+00</td>\n",
       "    </tr>\n",
       "    <tr>\n",
       "      <th>alcoholism</th>\n",
       "      <td>110527.0</td>\n",
       "      <td>3.039981e-02</td>\n",
       "      <td>1.716856e-01</td>\n",
       "      <td>0.000000e+00</td>\n",
       "      <td>0.000000e+00</td>\n",
       "      <td>0.000000e+00</td>\n",
       "      <td>0.000000e+00</td>\n",
       "      <td>1.000000e+00</td>\n",
       "    </tr>\n",
       "    <tr>\n",
       "      <th>handicap</th>\n",
       "      <td>110527.0</td>\n",
       "      <td>2.224796e-02</td>\n",
       "      <td>1.615427e-01</td>\n",
       "      <td>0.000000e+00</td>\n",
       "      <td>0.000000e+00</td>\n",
       "      <td>0.000000e+00</td>\n",
       "      <td>0.000000e+00</td>\n",
       "      <td>4.000000e+00</td>\n",
       "    </tr>\n",
       "    <tr>\n",
       "      <th>sms_received</th>\n",
       "      <td>110527.0</td>\n",
       "      <td>3.210256e-01</td>\n",
       "      <td>4.668727e-01</td>\n",
       "      <td>0.000000e+00</td>\n",
       "      <td>0.000000e+00</td>\n",
       "      <td>0.000000e+00</td>\n",
       "      <td>1.000000e+00</td>\n",
       "      <td>1.000000e+00</td>\n",
       "    </tr>\n",
       "  </tbody>\n",
       "</table>\n",
       "</div>"
      ],
      "text/plain": [
       "                  count          mean           std           min  \\\n",
       "patientid      110527.0  1.474963e+14  2.560949e+14  3.921784e+04   \n",
       "appointmentid  110527.0  5.675305e+06  7.129575e+04  5.030230e+06   \n",
       "age            110527.0  3.708887e+01  2.311020e+01 -1.000000e+00   \n",
       "scholarship    110527.0  9.826558e-02  2.976748e-01  0.000000e+00   \n",
       "hipertension   110527.0  1.972459e-01  3.979213e-01  0.000000e+00   \n",
       "diabetes       110527.0  7.186479e-02  2.582651e-01  0.000000e+00   \n",
       "alcoholism     110527.0  3.039981e-02  1.716856e-01  0.000000e+00   \n",
       "handicap       110527.0  2.224796e-02  1.615427e-01  0.000000e+00   \n",
       "sms_received   110527.0  3.210256e-01  4.668727e-01  0.000000e+00   \n",
       "\n",
       "                        25%           50%           75%           max  \n",
       "patientid      4.172614e+12  3.173184e+13  9.439172e+13  9.999816e+14  \n",
       "appointmentid  5.640286e+06  5.680573e+06  5.725524e+06  5.790484e+06  \n",
       "age            1.800000e+01  3.700000e+01  5.500000e+01  1.150000e+02  \n",
       "scholarship    0.000000e+00  0.000000e+00  0.000000e+00  1.000000e+00  \n",
       "hipertension   0.000000e+00  0.000000e+00  0.000000e+00  1.000000e+00  \n",
       "diabetes       0.000000e+00  0.000000e+00  0.000000e+00  1.000000e+00  \n",
       "alcoholism     0.000000e+00  0.000000e+00  0.000000e+00  1.000000e+00  \n",
       "handicap       0.000000e+00  0.000000e+00  0.000000e+00  4.000000e+00  \n",
       "sms_received   0.000000e+00  0.000000e+00  1.000000e+00  1.000000e+00  "
      ]
     },
     "execution_count": 7,
     "metadata": {},
     "output_type": "execute_result"
    }
   ],
   "source": [
    "appoints_df.describe().T"
   ]
  },
  {
   "cell_type": "code",
   "execution_count": 8,
   "metadata": {},
   "outputs": [
    {
     "data": {
      "text/plain": [
       "0"
      ]
     },
     "execution_count": 8,
     "metadata": {},
     "output_type": "execute_result"
    }
   ],
   "source": [
    "#check duplicates in data\n",
    "\n",
    "appoints_df.duplicated().sum()"
   ]
  },
  {
   "cell_type": "code",
   "execution_count": 9,
   "metadata": {
    "scrolled": true
   },
   "outputs": [
    {
     "data": {
      "text/plain": [
       "0"
      ]
     },
     "execution_count": 9,
     "metadata": {},
     "output_type": "execute_result"
    }
   ],
   "source": [
    "#check missing values in data\n",
    "\n",
    "appoints_df.isnull().sum().sum()"
   ]
  },
  {
   "cell_type": "code",
   "execution_count": 10,
   "metadata": {},
   "outputs": [
    {
     "name": "stdout",
     "output_type": "stream",
     "text": [
      "F    71840\n",
      "M    38687\n",
      "Name: gender, dtype: int64\n",
      "object\n"
     ]
    }
   ],
   "source": [
    "#findings for columns : 'gender'\n",
    "\n",
    "print(appoints_df.gender.value_counts(dropna=False))\n",
    "print(appoints_df.gender.dtype)"
   ]
  },
  {
   "cell_type": "code",
   "execution_count": 11,
   "metadata": {
    "scrolled": true
   },
   "outputs": [
    {
     "name": "stdout",
     "output_type": "stream",
     "text": [
      "Min Scheduled Day: 2015-11-10T07:13:56Z\n",
      "Max Scheduled Day: 2016-06-08T20:07:23Z\n",
      "No. of Unique Scheduled Days: 103549\n",
      "Type of Scheduled Day Column : object\n",
      "\n",
      "Min Appointment Day: 2016-04-29T00:00:00Z\n",
      "Max Appointment Day: 2016-06-08T00:00:00Z\n",
      "No. of Unique Appointment Days: 27\n",
      "Type of Appointment Day Column : object\n"
     ]
    }
   ],
   "source": [
    "#findings for columns : 'scheduledday','appointmentday'\n",
    "\n",
    "# print(appoints_df.scheduledday.value_counts().sort_index())\n",
    "print('Min Scheduled Day: {}'.format(appoints_df.scheduledday.min()))\n",
    "print('Max Scheduled Day: {}'.format(appoints_df.scheduledday.max()))\n",
    "print('No. of Unique Scheduled Days: {}'.format(appoints_df.scheduledday.nunique()))\n",
    "print('Type of Scheduled Day Column : {}'.format(appoints_df.scheduledday.dtype))\n",
    "\n",
    "# print(appoints_df.appointmentday.value_counts().sort_index())\n",
    "print('\\nMin Appointment Day: {}'.format(appoints_df.appointmentday.min()))\n",
    "print('Max Appointment Day: {}'.format(appoints_df.appointmentday.max()))\n",
    "print('No. of Unique Appointment Days: {}'.format(appoints_df.appointmentday.nunique()))\n",
    "print('Type of Appointment Day Column : {}'.format(appoints_df.appointmentday.dtype))"
   ]
  },
  {
   "cell_type": "code",
   "execution_count": 12,
   "metadata": {
    "scrolled": true
   },
   "outputs": [
    {
     "name": "stdout",
     "output_type": "stream",
     "text": [
      "-1         1\n",
      " 0      3539\n",
      " 1      2273\n",
      " 2      1618\n",
      " 3      1513\n",
      "        ... \n",
      " 98        6\n",
      " 99        1\n",
      " 100       4\n",
      " 102       2\n",
      " 115       5\n",
      "Name: age, Length: 104, dtype: int64\n",
      "int64\n"
     ]
    }
   ],
   "source": [
    "#findings for columns : 'Age'\n",
    "\n",
    "print(appoints_df.age.value_counts().sort_index())\n",
    "print(appoints_df.age.dtype)"
   ]
  },
  {
   "cell_type": "code",
   "execution_count": 13,
   "metadata": {
    "scrolled": true
   },
   "outputs": [
    {
     "name": "stdout",
     "output_type": "stream",
     "text": [
      "JARDIM CAMBURI                 7717\n",
      "MARIA ORTIZ                    5805\n",
      "RESISTÊNCIA                    4431\n",
      "JARDIM DA PENHA                3877\n",
      "ITARARÉ                        3514\n",
      "                               ... \n",
      "ILHA DO BOI                      35\n",
      "ILHA DO FRADE                    10\n",
      "AEROPORTO                         8\n",
      "ILHAS OCEÂNICAS DE TRINDADE       2\n",
      "PARQUE INDUSTRIAL                 1\n",
      "Name: neighbourhood, Length: 81, dtype: int64\n",
      "object\n"
     ]
    }
   ],
   "source": [
    "#findings for columns : 'neighbourhood'\n",
    "\n",
    "print(appoints_df.neighbourhood.value_counts())\n",
    "print(appoints_df.neighbourhood.dtype)"
   ]
  },
  {
   "cell_type": "code",
   "execution_count": 14,
   "metadata": {},
   "outputs": [
    {
     "name": "stdout",
     "output_type": "stream",
     "text": [
      "0    108286\n",
      "1      2042\n",
      "2       183\n",
      "3        13\n",
      "4         3\n",
      "Name: handicap, dtype: int64\n",
      "int64\n"
     ]
    }
   ],
   "source": [
    "#findings for columns : 'handicap'\n",
    "\n",
    "print(appoints_df.handicap.value_counts())\n",
    "print(appoints_df.handicap.dtype)"
   ]
  },
  {
   "cell_type": "code",
   "execution_count": 15,
   "metadata": {},
   "outputs": [
    {
     "name": "stdout",
     "output_type": "stream",
     "text": [
      "0    99666\n",
      "1    10861\n",
      "Name: scholarship, dtype: int64\n",
      "int64\n",
      "\n",
      "0    88726\n",
      "1    21801\n",
      "Name: hipertension, dtype: int64\n",
      "int64\n",
      "\n",
      "0    102584\n",
      "1      7943\n",
      "Name: diabetes, dtype: int64\n",
      "int64\n",
      "\n",
      "0    107167\n",
      "1      3360\n",
      "Name: alcoholism, dtype: int64\n",
      "int64\n",
      "\n",
      "0    75045\n",
      "1    35482\n",
      "Name: sms_received, dtype: int64\n",
      "int64\n",
      "\n",
      "No     88208\n",
      "Yes    22319\n",
      "Name: no_show, dtype: int64\n",
      "object\n",
      "\n"
     ]
    }
   ],
   "source": [
    "#findings for columns : 'scholarship', 'hipertension','diabetes', 'alcoholism',  'sms_received', 'no_show'\n",
    "\n",
    "print(appoints_df.scholarship.value_counts())\n",
    "print(appoints_df.scholarship.dtype, end='\\n\\n')\n",
    "\n",
    "print(appoints_df.hipertension.value_counts())\n",
    "print(appoints_df.hipertension.dtype, end='\\n\\n')\n",
    "\n",
    "print(appoints_df.diabetes.value_counts())\n",
    "print(appoints_df.diabetes.dtype, end='\\n\\n')\n",
    "\n",
    "print(appoints_df.alcoholism.value_counts())\n",
    "print(appoints_df.alcoholism.dtype, end='\\n\\n')\n",
    "\n",
    "print(appoints_df.sms_received.value_counts())\n",
    "print(appoints_df.sms_received.dtype, end='\\n\\n')\n",
    "\n",
    "print(appoints_df.no_show.value_counts())\n",
    "print(appoints_df.no_show.dtype, end='\\n\\n')"
   ]
  },
  {
   "cell_type": "markdown",
   "metadata": {},
   "source": [
    "### 3.Data Cleaning "
   ]
  },
  {
   "cell_type": "markdown",
   "metadata": {},
   "source": [
    "#### work on copy of the original data frame"
   ]
  },
  {
   "cell_type": "code",
   "execution_count": 16,
   "metadata": {},
   "outputs": [],
   "source": [
    "appoints_clean = appoints_df.copy()"
   ]
  },
  {
   "cell_type": "markdown",
   "metadata": {},
   "source": [
    "### Drop unneeded columns"
   ]
  },
  {
   "cell_type": "markdown",
   "metadata": {},
   "source": [
    "### Define\n",
    "- 'patientid', 'appointmentid' are identifiers columns for patient and appointment  and should be dropped."
   ]
  },
  {
   "cell_type": "markdown",
   "metadata": {},
   "source": [
    "### Code"
   ]
  },
  {
   "cell_type": "code",
   "execution_count": 17,
   "metadata": {},
   "outputs": [],
   "source": [
    "appoints_clean.drop(['patientid', 'appointmentid'],axis=1,inplace=True);"
   ]
  },
  {
   "cell_type": "markdown",
   "metadata": {},
   "source": [
    "### Test"
   ]
  },
  {
   "cell_type": "code",
   "execution_count": 18,
   "metadata": {
    "scrolled": true
   },
   "outputs": [
    {
     "data": {
      "text/plain": [
       "Index(['gender', 'scheduledday', 'appointmentday', 'age', 'neighbourhood',\n",
       "       'scholarship', 'hipertension', 'diabetes', 'alcoholism', 'handicap',\n",
       "       'sms_received', 'no_show'],\n",
       "      dtype='object')"
      ]
     },
     "execution_count": 18,
     "metadata": {},
     "output_type": "execute_result"
    }
   ],
   "source": [
    "appoints_clean.columns"
   ]
  },
  {
   "cell_type": "markdown",
   "metadata": {},
   "source": [
    "### Erroneous datatypes"
   ]
  },
  {
   "cell_type": "markdown",
   "metadata": {},
   "source": [
    "### Define\n",
    "- 'scheduledday', 'appointmentday' are strings and should be of type datetime.\n",
    "- 'scholarship', 'hipertension', 'diabetes', 'alcoholism','sms_received', 'no_show' are integers and should be of type boolean"
   ]
  },
  {
   "cell_type": "markdown",
   "metadata": {},
   "source": [
    "### Code"
   ]
  },
  {
   "cell_type": "code",
   "execution_count": 19,
   "metadata": {},
   "outputs": [],
   "source": [
    "# converting scheduledday,appointmentday to datetime column\n",
    "appoints_clean['scheduledday'] = pd.to_datetime(appoints_clean['scheduledday'])\n",
    "appoints_clean['appointmentday'] = pd.to_datetime(appoints_clean['appointmentday'])\n",
    "\n",
    "# mapping values in no_show columns to 0 (attended appointment), 1 (missed appointment) to be converted to bool\n",
    "appoints_clean['no_show'] = appoints_clean['no_show'].map({\n",
    "    'No':0,\n",
    "    'Yes':1\n",
    "}).astype(bool)\n",
    "\n",
    "# concverting scholarship, hipertension, diabetes, alcoholism, sms_received to bool\n",
    "bool_columns = ['scholarship', 'hipertension', 'diabetes', 'alcoholism','sms_received']\n",
    "appoints_clean[bool_columns] = appoints_clean[bool_columns].astype(bool)"
   ]
  },
  {
   "cell_type": "markdown",
   "metadata": {},
   "source": [
    "### Test"
   ]
  },
  {
   "cell_type": "code",
   "execution_count": 20,
   "metadata": {
    "scrolled": true
   },
   "outputs": [
    {
     "data": {
      "text/plain": [
       "gender                         object\n",
       "scheduledday      datetime64[ns, UTC]\n",
       "appointmentday    datetime64[ns, UTC]\n",
       "age                             int64\n",
       "neighbourhood                  object\n",
       "scholarship                      bool\n",
       "hipertension                     bool\n",
       "diabetes                         bool\n",
       "alcoholism                       bool\n",
       "handicap                        int64\n",
       "sms_received                     bool\n",
       "no_show                          bool\n",
       "dtype: object"
      ]
     },
     "execution_count": 20,
     "metadata": {},
     "output_type": "execute_result"
    }
   ],
   "source": [
    "appoints_clean.dtypes"
   ]
  },
  {
   "cell_type": "markdown",
   "metadata": {},
   "source": [
    "### Define\n",
    "- 'age' column has 1 entry with value -1 "
   ]
  },
  {
   "cell_type": "markdown",
   "metadata": {},
   "source": [
    "### Code\n"
   ]
  },
  {
   "cell_type": "code",
   "execution_count": 21,
   "metadata": {},
   "outputs": [],
   "source": [
    "row_index = appoints_clean[appoints_clean.age== -1].index\n",
    "appoints_clean.drop(index=row_index,inplace=True)"
   ]
  },
  {
   "cell_type": "markdown",
   "metadata": {},
   "source": [
    "### Test"
   ]
  },
  {
   "cell_type": "code",
   "execution_count": 22,
   "metadata": {
    "scrolled": true
   },
   "outputs": [
    {
     "data": {
      "text/html": [
       "<div>\n",
       "<style scoped>\n",
       "    .dataframe tbody tr th:only-of-type {\n",
       "        vertical-align: middle;\n",
       "    }\n",
       "\n",
       "    .dataframe tbody tr th {\n",
       "        vertical-align: top;\n",
       "    }\n",
       "\n",
       "    .dataframe thead th {\n",
       "        text-align: right;\n",
       "    }\n",
       "</style>\n",
       "<table border=\"1\" class=\"dataframe\">\n",
       "  <thead>\n",
       "    <tr style=\"text-align: right;\">\n",
       "      <th></th>\n",
       "      <th>gender</th>\n",
       "      <th>scheduledday</th>\n",
       "      <th>appointmentday</th>\n",
       "      <th>age</th>\n",
       "      <th>neighbourhood</th>\n",
       "      <th>scholarship</th>\n",
       "      <th>hipertension</th>\n",
       "      <th>diabetes</th>\n",
       "      <th>alcoholism</th>\n",
       "      <th>handicap</th>\n",
       "      <th>sms_received</th>\n",
       "      <th>no_show</th>\n",
       "    </tr>\n",
       "  </thead>\n",
       "  <tbody>\n",
       "  </tbody>\n",
       "</table>\n",
       "</div>"
      ],
      "text/plain": [
       "Empty DataFrame\n",
       "Columns: [gender, scheduledday, appointmentday, age, neighbourhood, scholarship, hipertension, diabetes, alcoholism, handicap, sms_received, no_show]\n",
       "Index: []"
      ]
     },
     "execution_count": 22,
     "metadata": {},
     "output_type": "execute_result"
    }
   ],
   "source": [
    "appoints_clean[appoints_clean.age == -1]"
   ]
  },
  {
   "cell_type": "markdown",
   "metadata": {},
   "source": [
    "### Save Cleaned Data"
   ]
  },
  {
   "cell_type": "code",
   "execution_count": 23,
   "metadata": {},
   "outputs": [],
   "source": [
    "appoints_clean.to_csv('datasets/noshowappointments_cleaned.csv', index=False)"
   ]
  },
  {
   "cell_type": "markdown",
   "metadata": {},
   "source": [
    "<a id='eda'></a>\n",
    "## Exploratory Data Analysis\n"
   ]
  },
  {
   "cell_type": "code",
   "execution_count": 24,
   "metadata": {},
   "outputs": [],
   "source": [
    "#make masks for attend , missed conditions\n",
    "\n",
    "attended = appoints_clean.no_show==False\n",
    "missed = appoints_clean.no_show==True"
   ]
  },
  {
   "cell_type": "markdown",
   "metadata": {},
   "source": [
    "### Research Question\n",
    "\n",
    "###  Checking the percentage of appointments attended vs missed\n",
    "- the percentage of attending the appointment is way higher than missing it"
   ]
  },
  {
   "cell_type": "code",
   "execution_count": 25,
   "metadata": {},
   "outputs": [
    {
     "data": {
      "text/plain": [
       "False    79.806561\n",
       "True     20.193439\n",
       "Name: no_show, dtype: float64"
      ]
     },
     "execution_count": 25,
     "metadata": {},
     "output_type": "execute_result"
    }
   ],
   "source": [
    "appoints_clean.no_show.value_counts(normalize=True)*100"
   ]
  },
  {
   "cell_type": "code",
   "execution_count": 26,
   "metadata": {
    "scrolled": true
   },
   "outputs": [
    {
     "data": {
      "image/png": "[encoded data removed]",
      "text/plain": [
       "<Figure size 360x360 with 1 Axes>"
      ]
     },
     "metadata": {},
     "output_type": "display_data"
    }
   ],
   "source": [
    "appoints_clean.no_show.value_counts(normalize=True).plot.pie(figsize=(5,5) ,labels=['Attended','Missed'], autopct='%.1f%%' );\n",
    "plt.title(\"Percentage of patients attended their appointments\",fontsize=15)\n",
    "plt.ylabel('');"
   ]
  },
  {
   "cell_type": "markdown",
   "metadata": {},
   "source": [
    "### Research Question\n",
    "\n",
    "### Checking the percentage of Female vs Male\n",
    "- it will help to better understand the if gender affects the no_show\n",
    "- females in dataset are bout 65% and males are about 35%"
   ]
  },
  {
   "cell_type": "code",
   "execution_count": 27,
   "metadata": {},
   "outputs": [
    {
     "data": {
      "text/plain": [
       "F    64.997376\n",
       "M    35.002624\n",
       "Name: gender, dtype: float64"
      ]
     },
     "execution_count": 27,
     "metadata": {},
     "output_type": "execute_result"
    }
   ],
   "source": [
    "appoints_clean.gender.value_counts(normalize=True)*100"
   ]
  },
  {
   "cell_type": "markdown",
   "metadata": {},
   "source": [
    "### Research Question\n",
    "\n",
    "### Does patient gender affect the percentage of attending the appointments ??\n"
   ]
  },
  {
   "cell_type": "code",
   "execution_count": 28,
   "metadata": {},
   "outputs": [
    {
     "name": "stdout",
     "output_type": "stream",
     "text": [
      "F    64.898477\n",
      "M    35.101523\n",
      "Name: gender, dtype: float64\n",
      "F    65.388234\n",
      "M    34.611766\n",
      "Name: gender, dtype: float64\n"
     ]
    }
   ],
   "source": [
    "print(appoints_clean.loc[attended , 'gender'].value_counts(normalize=True)*100)\n",
    "print(appoints_clean.loc[missed , 'gender'].value_counts(normalize=True)*100)"
   ]
  },
  {
   "cell_type": "code",
   "execution_count": 29,
   "metadata": {
    "scrolled": false
   },
   "outputs": [
    {
     "data": {
      "image/png": "[encoded data removed]",
      "text/plain": [
       "<Figure size 432x288 with 1 Axes>"
      ]
     },
     "metadata": {
      "needs_background": "light"
     },
     "output_type": "display_data"
    }
   ],
   "source": [
    "sns.countplot(x = 'gender', hue = 'no_show', data = appoints_clean);\n",
    "plt.title(\"Gender vs No-Show\",fontsize=15);\n",
    "plt.xlabel('Gender',fontsize=12);\n",
    "plt.ylabel('No-Show',fontsize=12);\n",
    "plt.legend(['Attended','Missed']);"
   ]
  },
  {
   "cell_type": "markdown",
   "metadata": {},
   "source": [
    "### Conclusion :\n",
    "\n",
    "- **It seems that gender has not effect on appointment attendance percentage**\n",
    "- missing percentage and attending percentage for females and males are almost the same of females and males percentage in the dataset"
   ]
  },
  {
   "cell_type": "markdown",
   "metadata": {},
   "source": [
    "### Research Question\n",
    "\n",
    "### Does patient age affect the percentage of attending the appointments ??\n"
   ]
  },
  {
   "cell_type": "code",
   "execution_count": 30,
   "metadata": {
    "scrolled": false
   },
   "outputs": [
    {
     "name": "stdout",
     "output_type": "stream",
     "text": [
      "0      3539\n",
      "1      2273\n",
      "52     1746\n",
      "49     1652\n",
      "53     1651\n",
      "       ... \n",
      "98        6\n",
      "115       5\n",
      "100       4\n",
      "102       2\n",
      "99        1\n",
      "Name: age, Length: 103, dtype: int64\n",
      "count    110526.000000\n",
      "mean         37.089219\n",
      "std          23.110026\n",
      "min           0.000000\n",
      "25%          18.000000\n",
      "50%          37.000000\n",
      "75%          55.000000\n",
      "max         115.000000\n",
      "Name: age, dtype: float64\n"
     ]
    }
   ],
   "source": [
    "print(appoints_clean.age.value_counts().sort_values(ascending=False))\n",
    "print(appoints_clean.age.describe())"
   ]
  },
  {
   "cell_type": "code",
   "execution_count": 31,
   "metadata": {},
   "outputs": [
    {
     "data": {
      "image/png": "[encoded data removed]",
      "text/plain": [
       "<Figure size 432x288 with 1 Axes>"
      ]
     },
     "metadata": {
      "needs_background": "light"
     },
     "output_type": "display_data"
    }
   ],
   "source": [
    "appoints_clean.loc[attended ,'age'].hist(alpha=0.5,bins=50,label='Attended');\n",
    "appoints_clean.loc[missed ,'age'].hist(alpha=0.5,bins=50,label='Missed');\n",
    "plt.title(\"Distribution for Ages\", fontsize = 15)\n",
    "plt.xlabel('Age', fontsize = 12)\n",
    "plt.ylabel('Frequancy', fontsize = 12)\n",
    "plt.legend();"
   ]
  },
  {
   "cell_type": "code",
   "execution_count": 32,
   "metadata": {},
   "outputs": [],
   "source": [
    "bins=[0, 10, 20,30,40,50,60,70,80,90,100,110,120]\n",
    "labels=['0-10','10-20','20-30','30-40','40-50','50-60','60-70','70-80','80-90','90-100','100-110','110-120']\n",
    "appoints_clean['age_category'] = pd.cut(appoints_clean['age'],bins=bins , include_lowest=True,labels = labels )"
   ]
  },
  {
   "cell_type": "code",
   "execution_count": 33,
   "metadata": {},
   "outputs": [
    {
     "data": {
      "text/plain": [
       "age_category  no_show\n",
       "0-10          False       79.796256\n",
       "              True        20.203744\n",
       "10-20         False       74.746164\n",
       "              True        25.253836\n",
       "20-30         False       75.375463\n",
       "              True        24.624537\n",
       "30-40         False       78.527770\n",
       "              True        21.472230\n",
       "40-50         False       80.097087\n",
       "              True        19.902913\n",
       "50-60         False       82.625631\n",
       "              True        17.374369\n",
       "60-70         False       85.271249\n",
       "              True        14.728751\n",
       "70-80         False       84.460759\n",
       "              True        15.539241\n",
       "80-90         False       84.001572\n",
       "              True        15.998428\n",
       "90-100        False       80.398671\n",
       "              True        19.601329\n",
       "100-110       False      100.000000\n",
       "110-120       True        60.000000\n",
       "              False       40.000000\n",
       "Name: no_show, dtype: float64"
      ]
     },
     "execution_count": 33,
     "metadata": {},
     "output_type": "execute_result"
    }
   ],
   "source": [
    "appoints_clean.groupby('age_category')['no_show'].value_counts(normalize=True)*100"
   ]
  },
  {
   "cell_type": "code",
   "execution_count": 34,
   "metadata": {
    "scrolled": false
   },
   "outputs": [
    {
     "data": {
      "text/plain": [
       "Text(0, 0.5, 'Frequancy')"
      ]
     },
     "execution_count": 34,
     "metadata": {},
     "output_type": "execute_result"
    },
    {
     "data": {
      "image/png": "[encoded data removed]",
      "text/plain": [
       "<Figure size 720x360 with 1 Axes>"
      ]
     },
     "metadata": {
      "needs_background": "light"
     },
     "output_type": "display_data"
    }
   ],
   "source": [
    "#appoints_clean.groupby(['age_category','no_show'])['no_show'].count().plot(kind='bar',figsize=(10,5))\n",
    "appoints_clean.groupby('age_category')['no_show'].value_counts(normalize=True).plot.bar(figsize=(10,5));\n",
    "plt.title(\"Distribution Grouped by Age Category and No-Show\", fontsize = 15)\n",
    "plt.xlabel('Age Category , No-Show Groups', fontsize = 12)\n",
    "plt.ylabel('Frequancy', fontsize = 12)"
   ]
  },
  {
   "cell_type": "code",
   "execution_count": 35,
   "metadata": {
    "scrolled": false
   },
   "outputs": [
    {
     "data": {
      "text/html": [
       "<div>\n",
       "<style scoped>\n",
       "    .dataframe tbody tr th:only-of-type {\n",
       "        vertical-align: middle;\n",
       "    }\n",
       "\n",
       "    .dataframe tbody tr th {\n",
       "        vertical-align: top;\n",
       "    }\n",
       "\n",
       "    .dataframe thead th {\n",
       "        text-align: right;\n",
       "    }\n",
       "</style>\n",
       "<table border=\"1\" class=\"dataframe\">\n",
       "  <thead>\n",
       "    <tr style=\"text-align: right;\">\n",
       "      <th></th>\n",
       "      <th>age</th>\n",
       "      <th>no_show</th>\n",
       "    </tr>\n",
       "  </thead>\n",
       "  <tbody>\n",
       "    <tr>\n",
       "      <th>58014</th>\n",
       "      <td>102</td>\n",
       "      <td>False</td>\n",
       "    </tr>\n",
       "    <tr>\n",
       "      <th>79270</th>\n",
       "      <td>100</td>\n",
       "      <td>False</td>\n",
       "    </tr>\n",
       "    <tr>\n",
       "      <th>79272</th>\n",
       "      <td>100</td>\n",
       "      <td>False</td>\n",
       "    </tr>\n",
       "    <tr>\n",
       "      <th>90372</th>\n",
       "      <td>102</td>\n",
       "      <td>False</td>\n",
       "    </tr>\n",
       "    <tr>\n",
       "      <th>92084</th>\n",
       "      <td>100</td>\n",
       "      <td>False</td>\n",
       "    </tr>\n",
       "    <tr>\n",
       "      <th>108506</th>\n",
       "      <td>100</td>\n",
       "      <td>False</td>\n",
       "    </tr>\n",
       "  </tbody>\n",
       "</table>\n",
       "</div>"
      ],
      "text/plain": [
       "        age  no_show\n",
       "58014   102    False\n",
       "79270   100    False\n",
       "79272   100    False\n",
       "90372   102    False\n",
       "92084   100    False\n",
       "108506  100    False"
      ]
     },
     "execution_count": 35,
     "metadata": {},
     "output_type": "execute_result"
    }
   ],
   "source": [
    "appoints_clean.loc[(appoints_clean['age']>=100) & (appoints_clean['age']<110),['age','no_show']]"
   ]
  },
  {
   "cell_type": "markdown",
   "metadata": {},
   "source": [
    "### Conclusion :\n",
    "- **It seems that age has no correlation with attending the appointments**\n",
    "- distribution for attending and missing appointments are similar when grouping by age-category and no_show\n",
    "- age category (100-110) has rate 100% on showing for their appointments but their were only 6 patients in this category"
   ]
  },
  {
   "cell_type": "markdown",
   "metadata": {},
   "source": [
    "### Research Question\n",
    "\n",
    "### Does handicap affect the percentage of attending the appointments ??"
   ]
  },
  {
   "cell_type": "code",
   "execution_count": 36,
   "metadata": {},
   "outputs": [],
   "source": [
    "def create_bar_plot(df , x_col, y_col):\n",
    "    bar_plot = df.groupby(x_col)[y_col].mean()    \n",
    "    plt.title('{} vs {}'.format(x_col.title(), y_col.title() ) ,fontsize=15)\n",
    "    plt.xlabel(x_col.title(), fontsize=12)\n",
    "    plt.ylabel(y_col.title(), fontsize=12)\n",
    "    bar_plot.plot(kind='bar')"
   ]
  },
  {
   "cell_type": "code",
   "execution_count": 37,
   "metadata": {
    "scrolled": false
   },
   "outputs": [
    {
     "data": {
      "image/png": "[encoded data removed]",
      "text/plain": [
       "<Figure size 432x288 with 1 Axes>"
      ]
     },
     "metadata": {
      "needs_background": "light"
     },
     "output_type": "display_data"
    }
   ],
   "source": [
    "create_bar_plot(df= appoints_clean , x_col= 'handicap' , y_col= 'no_show')"
   ]
  },
  {
   "cell_type": "markdown",
   "metadata": {},
   "source": [
    "### Conclusion : \n",
    "- **It seems that Handcap has positive correlation with No-show 'missing' the appointments**"
   ]
  },
  {
   "cell_type": "markdown",
   "metadata": {},
   "source": [
    "### Research Question\n",
    "\n",
    "### Does registering in the Scholarship program affect the percentage of attending the appointments ??\n",
    "### Do Hipertension,Diabetes or Alcoholism columns affect the percentage of attending the appointments ??"
   ]
  },
  {
   "cell_type": "code",
   "execution_count": 38,
   "metadata": {},
   "outputs": [
    {
     "data": {
      "image/png": "[encoded data removed]",
      "text/plain": [
       "<Figure size 1080x1080 with 4 Axes>"
      ]
     },
     "metadata": {
      "needs_background": "light"
     },
     "output_type": "display_data"
    }
   ],
   "source": [
    "fig = plt.figure(figsize=(15,15))\n",
    "\n",
    "columns = ['scholarship','hipertension','diabetes','alcoholism']\n",
    "for i in range(4):\n",
    "    ax = fig.add_subplot(2,2,i+1)\n",
    "    ax.plot = create_bar_plot(df= appoints_clean , x_col= columns[i] , y_col= 'no_show')\n",
    "    ax.set_xlabel(columns[i].title(), fontsize=12)\n",
    "    ax.set_ylabel('no_show'.title(), fontsize=12)\n"
   ]
  },
  {
   "cell_type": "markdown",
   "metadata": {},
   "source": [
    "### Conclusion :\n",
    "\n",
    "- **It seems that registering in the Scholarship program has no such great effect in making patients attend the appointments.**\n",
    "- **It seems also that Hipertension,Diabetes,Alcoholism don't affect in No show.**"
   ]
  },
  {
   "cell_type": "markdown",
   "metadata": {},
   "source": [
    "### Research Question\n",
    "\n",
    "### Does Sending SMS increases the percentage of attending the appointments ??"
   ]
  },
  {
   "cell_type": "code",
   "execution_count": 39,
   "metadata": {
    "scrolled": true
   },
   "outputs": [
    {
     "data": {
      "text/plain": [
       "False    67.897146\n",
       "True     32.102854\n",
       "Name: sms_received, dtype: float64"
      ]
     },
     "execution_count": 39,
     "metadata": {},
     "output_type": "execute_result"
    }
   ],
   "source": [
    "appoints_clean.sms_received.value_counts(normalize=True)*100"
   ]
  },
  {
   "cell_type": "code",
   "execution_count": 40,
   "metadata": {},
   "outputs": [
    {
     "name": "stdout",
     "output_type": "stream",
     "text": [
      "False    70.866258\n",
      "True     29.133742\n",
      "Name: sms_received, dtype: float64\n",
      "False    56.162911\n",
      "True     43.837089\n",
      "Name: sms_received, dtype: float64\n"
     ]
    }
   ],
   "source": [
    "print(appoints_clean.loc[attended , 'sms_received'].value_counts(normalize=True)*100)\n",
    "print(appoints_clean.loc[missed , 'sms_received'].value_counts(normalize=True)*100)"
   ]
  },
  {
   "cell_type": "code",
   "execution_count": 41,
   "metadata": {
    "scrolled": true
   },
   "outputs": [
    {
     "data": {
      "text/plain": [
       "Text(0.5, 0, 'SMS_Received')"
      ]
     },
     "execution_count": 41,
     "metadata": {},
     "output_type": "execute_result"
    },
    {
     "data": {
      "image/png": "[encoded data removed]",
      "text/plain": [
       "<Figure size 432x288 with 1 Axes>"
      ]
     },
     "metadata": {
      "needs_background": "light"
     },
     "output_type": "display_data"
    }
   ],
   "source": [
    "create_bar_plot(df= appoints_clean , x_col= 'sms_received' , y_col= 'no_show')\n",
    "\n",
    "plt.title('SMS_Received vs No-show')\n",
    "plt.xlabel('SMS_Received',fontsize=12)\n"
   ]
  },
  {
   "cell_type": "markdown",
   "metadata": {},
   "source": [
    "### Conclusion :\n",
    "- **It seems that SMS does not have great effect in making patients attend their appointments.**"
   ]
  },
  {
   "cell_type": "markdown",
   "metadata": {},
   "source": [
    "### Research Question\n",
    "\n",
    "### Does waiting days between schedule and appointment day affect the percentage of attending the appointments ??\n",
    "- AppointmentDay column doesn't have hour info so we could consider -1 as the same day\n",
    "- for entries with -2,-7 , I will drop them"
   ]
  },
  {
   "cell_type": "code",
   "execution_count": 42,
   "metadata": {},
   "outputs": [],
   "source": [
    "appoints_clean['waiting_days'] =(appoints_clean['appointmentday'] - appoints_clean['scheduledday']).dt.days"
   ]
  },
  {
   "cell_type": "code",
   "execution_count": 43,
   "metadata": {
    "scrolled": true
   },
   "outputs": [
    {
     "name": "stdout",
     "output_type": "stream",
     "text": [
      "-7          1\n",
      "-2          4\n",
      "-1      38562\n",
      " 0       5213\n",
      " 1       6725\n",
      "        ...  \n",
      " 154       10\n",
      " 161       11\n",
      " 168        8\n",
      " 175       16\n",
      " 178       10\n",
      "Name: waiting_days, Length: 131, dtype: int64\n",
      "count    110526.000000\n",
      "mean          9.183794\n",
      "std          15.255034\n",
      "min          -7.000000\n",
      "25%          -1.000000\n",
      "50%           3.000000\n",
      "75%          14.000000\n",
      "max         178.000000\n",
      "Name: waiting_days, dtype: float64\n"
     ]
    }
   ],
   "source": [
    "print(appoints_clean['waiting_days'].value_counts().sort_index())\n",
    "print(appoints_clean['waiting_days'].describe())"
   ]
  },
  {
   "cell_type": "code",
   "execution_count": 44,
   "metadata": {
    "scrolled": true
   },
   "outputs": [
    {
     "data": {
      "text/html": [
       "<div>\n",
       "<style scoped>\n",
       "    .dataframe tbody tr th:only-of-type {\n",
       "        vertical-align: middle;\n",
       "    }\n",
       "\n",
       "    .dataframe tbody tr th {\n",
       "        vertical-align: top;\n",
       "    }\n",
       "\n",
       "    .dataframe thead th {\n",
       "        text-align: right;\n",
       "    }\n",
       "</style>\n",
       "<table border=\"1\" class=\"dataframe\">\n",
       "  <thead>\n",
       "    <tr style=\"text-align: right;\">\n",
       "      <th></th>\n",
       "      <th>gender</th>\n",
       "      <th>scheduledday</th>\n",
       "      <th>appointmentday</th>\n",
       "      <th>age</th>\n",
       "      <th>neighbourhood</th>\n",
       "      <th>scholarship</th>\n",
       "      <th>hipertension</th>\n",
       "      <th>diabetes</th>\n",
       "      <th>alcoholism</th>\n",
       "      <th>handicap</th>\n",
       "      <th>sms_received</th>\n",
       "      <th>no_show</th>\n",
       "      <th>age_category</th>\n",
       "      <th>waiting_days</th>\n",
       "    </tr>\n",
       "  </thead>\n",
       "  <tbody>\n",
       "    <tr>\n",
       "      <th>27033</th>\n",
       "      <td>M</td>\n",
       "      <td>2016-05-10 10:51:53+00:00</td>\n",
       "      <td>2016-05-09 00:00:00+00:00</td>\n",
       "      <td>38</td>\n",
       "      <td>RESISTÊNCIA</td>\n",
       "      <td>False</td>\n",
       "      <td>False</td>\n",
       "      <td>False</td>\n",
       "      <td>False</td>\n",
       "      <td>1</td>\n",
       "      <td>False</td>\n",
       "      <td>True</td>\n",
       "      <td>30-40</td>\n",
       "      <td>-2</td>\n",
       "    </tr>\n",
       "    <tr>\n",
       "      <th>55226</th>\n",
       "      <td>F</td>\n",
       "      <td>2016-05-18 14:50:41+00:00</td>\n",
       "      <td>2016-05-17 00:00:00+00:00</td>\n",
       "      <td>19</td>\n",
       "      <td>SANTO ANTÔNIO</td>\n",
       "      <td>False</td>\n",
       "      <td>False</td>\n",
       "      <td>False</td>\n",
       "      <td>False</td>\n",
       "      <td>1</td>\n",
       "      <td>False</td>\n",
       "      <td>True</td>\n",
       "      <td>10-20</td>\n",
       "      <td>-2</td>\n",
       "    </tr>\n",
       "    <tr>\n",
       "      <th>64175</th>\n",
       "      <td>F</td>\n",
       "      <td>2016-05-05 13:43:58+00:00</td>\n",
       "      <td>2016-05-04 00:00:00+00:00</td>\n",
       "      <td>22</td>\n",
       "      <td>CONSOLAÇÃO</td>\n",
       "      <td>False</td>\n",
       "      <td>False</td>\n",
       "      <td>False</td>\n",
       "      <td>False</td>\n",
       "      <td>0</td>\n",
       "      <td>False</td>\n",
       "      <td>True</td>\n",
       "      <td>20-30</td>\n",
       "      <td>-2</td>\n",
       "    </tr>\n",
       "    <tr>\n",
       "      <th>71533</th>\n",
       "      <td>F</td>\n",
       "      <td>2016-05-11 13:49:20+00:00</td>\n",
       "      <td>2016-05-05 00:00:00+00:00</td>\n",
       "      <td>81</td>\n",
       "      <td>SANTO ANTÔNIO</td>\n",
       "      <td>False</td>\n",
       "      <td>False</td>\n",
       "      <td>False</td>\n",
       "      <td>False</td>\n",
       "      <td>0</td>\n",
       "      <td>False</td>\n",
       "      <td>True</td>\n",
       "      <td>80-90</td>\n",
       "      <td>-7</td>\n",
       "    </tr>\n",
       "    <tr>\n",
       "      <th>72362</th>\n",
       "      <td>M</td>\n",
       "      <td>2016-05-04 06:50:57+00:00</td>\n",
       "      <td>2016-05-03 00:00:00+00:00</td>\n",
       "      <td>7</td>\n",
       "      <td>TABUAZEIRO</td>\n",
       "      <td>False</td>\n",
       "      <td>False</td>\n",
       "      <td>False</td>\n",
       "      <td>False</td>\n",
       "      <td>0</td>\n",
       "      <td>False</td>\n",
       "      <td>True</td>\n",
       "      <td>0-10</td>\n",
       "      <td>-2</td>\n",
       "    </tr>\n",
       "  </tbody>\n",
       "</table>\n",
       "</div>"
      ],
      "text/plain": [
       "      gender              scheduledday            appointmentday  age  \\\n",
       "27033      M 2016-05-10 10:51:53+00:00 2016-05-09 00:00:00+00:00   38   \n",
       "55226      F 2016-05-18 14:50:41+00:00 2016-05-17 00:00:00+00:00   19   \n",
       "64175      F 2016-05-05 13:43:58+00:00 2016-05-04 00:00:00+00:00   22   \n",
       "71533      F 2016-05-11 13:49:20+00:00 2016-05-05 00:00:00+00:00   81   \n",
       "72362      M 2016-05-04 06:50:57+00:00 2016-05-03 00:00:00+00:00    7   \n",
       "\n",
       "       neighbourhood  scholarship  hipertension  diabetes  alcoholism  \\\n",
       "27033    RESISTÊNCIA        False         False     False       False   \n",
       "55226  SANTO ANTÔNIO        False         False     False       False   \n",
       "64175     CONSOLAÇÃO        False         False     False       False   \n",
       "71533  SANTO ANTÔNIO        False         False     False       False   \n",
       "72362     TABUAZEIRO        False         False     False       False   \n",
       "\n",
       "       handicap  sms_received  no_show age_category  waiting_days  \n",
       "27033         1         False     True        30-40            -2  \n",
       "55226         1         False     True        10-20            -2  \n",
       "64175         0         False     True        20-30            -2  \n",
       "71533         0         False     True        80-90            -7  \n",
       "72362         0         False     True         0-10            -2  "
      ]
     },
     "execution_count": 44,
     "metadata": {},
     "output_type": "execute_result"
    }
   ],
   "source": [
    "appoints_clean[appoints_clean['waiting_days'] < -1]"
   ]
  },
  {
   "cell_type": "code",
   "execution_count": 45,
   "metadata": {
    "scrolled": true
   },
   "outputs": [
    {
     "data": {
      "text/html": [
       "<div>\n",
       "<style scoped>\n",
       "    .dataframe tbody tr th:only-of-type {\n",
       "        vertical-align: middle;\n",
       "    }\n",
       "\n",
       "    .dataframe tbody tr th {\n",
       "        vertical-align: top;\n",
       "    }\n",
       "\n",
       "    .dataframe thead th {\n",
       "        text-align: right;\n",
       "    }\n",
       "</style>\n",
       "<table border=\"1\" class=\"dataframe\">\n",
       "  <thead>\n",
       "    <tr style=\"text-align: right;\">\n",
       "      <th></th>\n",
       "      <th>gender</th>\n",
       "      <th>scheduledday</th>\n",
       "      <th>appointmentday</th>\n",
       "      <th>age</th>\n",
       "      <th>neighbourhood</th>\n",
       "      <th>scholarship</th>\n",
       "      <th>hipertension</th>\n",
       "      <th>diabetes</th>\n",
       "      <th>alcoholism</th>\n",
       "      <th>handicap</th>\n",
       "      <th>sms_received</th>\n",
       "      <th>no_show</th>\n",
       "      <th>age_category</th>\n",
       "      <th>waiting_days</th>\n",
       "    </tr>\n",
       "  </thead>\n",
       "  <tbody>\n",
       "    <tr>\n",
       "      <th>0</th>\n",
       "      <td>F</td>\n",
       "      <td>2016-04-29 18:38:08+00:00</td>\n",
       "      <td>2016-04-29 00:00:00+00:00</td>\n",
       "      <td>62</td>\n",
       "      <td>JARDIM DA PENHA</td>\n",
       "      <td>False</td>\n",
       "      <td>True</td>\n",
       "      <td>False</td>\n",
       "      <td>False</td>\n",
       "      <td>0</td>\n",
       "      <td>False</td>\n",
       "      <td>False</td>\n",
       "      <td>60-70</td>\n",
       "      <td>-1</td>\n",
       "    </tr>\n",
       "    <tr>\n",
       "      <th>1</th>\n",
       "      <td>M</td>\n",
       "      <td>2016-04-29 16:08:27+00:00</td>\n",
       "      <td>2016-04-29 00:00:00+00:00</td>\n",
       "      <td>56</td>\n",
       "      <td>JARDIM DA PENHA</td>\n",
       "      <td>False</td>\n",
       "      <td>False</td>\n",
       "      <td>False</td>\n",
       "      <td>False</td>\n",
       "      <td>0</td>\n",
       "      <td>False</td>\n",
       "      <td>False</td>\n",
       "      <td>50-60</td>\n",
       "      <td>-1</td>\n",
       "    </tr>\n",
       "    <tr>\n",
       "      <th>2</th>\n",
       "      <td>F</td>\n",
       "      <td>2016-04-29 16:19:04+00:00</td>\n",
       "      <td>2016-04-29 00:00:00+00:00</td>\n",
       "      <td>62</td>\n",
       "      <td>MATA DA PRAIA</td>\n",
       "      <td>False</td>\n",
       "      <td>False</td>\n",
       "      <td>False</td>\n",
       "      <td>False</td>\n",
       "      <td>0</td>\n",
       "      <td>False</td>\n",
       "      <td>False</td>\n",
       "      <td>60-70</td>\n",
       "      <td>-1</td>\n",
       "    </tr>\n",
       "    <tr>\n",
       "      <th>3</th>\n",
       "      <td>F</td>\n",
       "      <td>2016-04-29 17:29:31+00:00</td>\n",
       "      <td>2016-04-29 00:00:00+00:00</td>\n",
       "      <td>8</td>\n",
       "      <td>PONTAL DE CAMBURI</td>\n",
       "      <td>False</td>\n",
       "      <td>False</td>\n",
       "      <td>False</td>\n",
       "      <td>False</td>\n",
       "      <td>0</td>\n",
       "      <td>False</td>\n",
       "      <td>False</td>\n",
       "      <td>0-10</td>\n",
       "      <td>-1</td>\n",
       "    </tr>\n",
       "    <tr>\n",
       "      <th>4</th>\n",
       "      <td>F</td>\n",
       "      <td>2016-04-29 16:07:23+00:00</td>\n",
       "      <td>2016-04-29 00:00:00+00:00</td>\n",
       "      <td>56</td>\n",
       "      <td>JARDIM DA PENHA</td>\n",
       "      <td>False</td>\n",
       "      <td>True</td>\n",
       "      <td>True</td>\n",
       "      <td>False</td>\n",
       "      <td>0</td>\n",
       "      <td>False</td>\n",
       "      <td>False</td>\n",
       "      <td>50-60</td>\n",
       "      <td>-1</td>\n",
       "    </tr>\n",
       "    <tr>\n",
       "      <th>...</th>\n",
       "      <td>...</td>\n",
       "      <td>...</td>\n",
       "      <td>...</td>\n",
       "      <td>...</td>\n",
       "      <td>...</td>\n",
       "      <td>...</td>\n",
       "      <td>...</td>\n",
       "      <td>...</td>\n",
       "      <td>...</td>\n",
       "      <td>...</td>\n",
       "      <td>...</td>\n",
       "      <td>...</td>\n",
       "      <td>...</td>\n",
       "      <td>...</td>\n",
       "    </tr>\n",
       "    <tr>\n",
       "      <th>110512</th>\n",
       "      <td>F</td>\n",
       "      <td>2016-06-08 08:20:01+00:00</td>\n",
       "      <td>2016-06-08 00:00:00+00:00</td>\n",
       "      <td>41</td>\n",
       "      <td>MARIA ORTIZ</td>\n",
       "      <td>False</td>\n",
       "      <td>False</td>\n",
       "      <td>False</td>\n",
       "      <td>False</td>\n",
       "      <td>0</td>\n",
       "      <td>False</td>\n",
       "      <td>False</td>\n",
       "      <td>40-50</td>\n",
       "      <td>-1</td>\n",
       "    </tr>\n",
       "    <tr>\n",
       "      <th>110513</th>\n",
       "      <td>M</td>\n",
       "      <td>2016-06-08 07:52:55+00:00</td>\n",
       "      <td>2016-06-08 00:00:00+00:00</td>\n",
       "      <td>2</td>\n",
       "      <td>ANTÔNIO HONÓRIO</td>\n",
       "      <td>False</td>\n",
       "      <td>False</td>\n",
       "      <td>False</td>\n",
       "      <td>False</td>\n",
       "      <td>0</td>\n",
       "      <td>False</td>\n",
       "      <td>False</td>\n",
       "      <td>0-10</td>\n",
       "      <td>-1</td>\n",
       "    </tr>\n",
       "    <tr>\n",
       "      <th>110514</th>\n",
       "      <td>F</td>\n",
       "      <td>2016-06-08 08:35:31+00:00</td>\n",
       "      <td>2016-06-08 00:00:00+00:00</td>\n",
       "      <td>58</td>\n",
       "      <td>MARIA ORTIZ</td>\n",
       "      <td>False</td>\n",
       "      <td>False</td>\n",
       "      <td>False</td>\n",
       "      <td>False</td>\n",
       "      <td>0</td>\n",
       "      <td>False</td>\n",
       "      <td>False</td>\n",
       "      <td>50-60</td>\n",
       "      <td>-1</td>\n",
       "    </tr>\n",
       "    <tr>\n",
       "      <th>110516</th>\n",
       "      <td>F</td>\n",
       "      <td>2016-06-07 07:45:16+00:00</td>\n",
       "      <td>2016-06-08 00:00:00+00:00</td>\n",
       "      <td>37</td>\n",
       "      <td>MARIA ORTIZ</td>\n",
       "      <td>False</td>\n",
       "      <td>False</td>\n",
       "      <td>False</td>\n",
       "      <td>False</td>\n",
       "      <td>0</td>\n",
       "      <td>False</td>\n",
       "      <td>True</td>\n",
       "      <td>30-40</td>\n",
       "      <td>0</td>\n",
       "    </tr>\n",
       "    <tr>\n",
       "      <th>110517</th>\n",
       "      <td>F</td>\n",
       "      <td>2016-06-07 07:38:34+00:00</td>\n",
       "      <td>2016-06-07 00:00:00+00:00</td>\n",
       "      <td>19</td>\n",
       "      <td>MARIA ORTIZ</td>\n",
       "      <td>False</td>\n",
       "      <td>False</td>\n",
       "      <td>False</td>\n",
       "      <td>False</td>\n",
       "      <td>0</td>\n",
       "      <td>False</td>\n",
       "      <td>False</td>\n",
       "      <td>10-20</td>\n",
       "      <td>-1</td>\n",
       "    </tr>\n",
       "  </tbody>\n",
       "</table>\n",
       "<p>43780 rows × 14 columns</p>\n",
       "</div>"
      ],
      "text/plain": [
       "       gender              scheduledday            appointmentday  age  \\\n",
       "0           F 2016-04-29 18:38:08+00:00 2016-04-29 00:00:00+00:00   62   \n",
       "1           M 2016-04-29 16:08:27+00:00 2016-04-29 00:00:00+00:00   56   \n",
       "2           F 2016-04-29 16:19:04+00:00 2016-04-29 00:00:00+00:00   62   \n",
       "3           F 2016-04-29 17:29:31+00:00 2016-04-29 00:00:00+00:00    8   \n",
       "4           F 2016-04-29 16:07:23+00:00 2016-04-29 00:00:00+00:00   56   \n",
       "...       ...                       ...                       ...  ...   \n",
       "110512      F 2016-06-08 08:20:01+00:00 2016-06-08 00:00:00+00:00   41   \n",
       "110513      M 2016-06-08 07:52:55+00:00 2016-06-08 00:00:00+00:00    2   \n",
       "110514      F 2016-06-08 08:35:31+00:00 2016-06-08 00:00:00+00:00   58   \n",
       "110516      F 2016-06-07 07:45:16+00:00 2016-06-08 00:00:00+00:00   37   \n",
       "110517      F 2016-06-07 07:38:34+00:00 2016-06-07 00:00:00+00:00   19   \n",
       "\n",
       "            neighbourhood  scholarship  hipertension  diabetes  alcoholism  \\\n",
       "0         JARDIM DA PENHA        False          True     False       False   \n",
       "1         JARDIM DA PENHA        False         False     False       False   \n",
       "2           MATA DA PRAIA        False         False     False       False   \n",
       "3       PONTAL DE CAMBURI        False         False     False       False   \n",
       "4         JARDIM DA PENHA        False          True      True       False   \n",
       "...                   ...          ...           ...       ...         ...   \n",
       "110512        MARIA ORTIZ        False         False     False       False   \n",
       "110513    ANTÔNIO HONÓRIO        False         False     False       False   \n",
       "110514        MARIA ORTIZ        False         False     False       False   \n",
       "110516        MARIA ORTIZ        False         False     False       False   \n",
       "110517        MARIA ORTIZ        False         False     False       False   \n",
       "\n",
       "        handicap  sms_received  no_show age_category  waiting_days  \n",
       "0              0         False    False        60-70            -1  \n",
       "1              0         False    False        50-60            -1  \n",
       "2              0         False    False        60-70            -1  \n",
       "3              0         False    False         0-10            -1  \n",
       "4              0         False    False        50-60            -1  \n",
       "...          ...           ...      ...          ...           ...  \n",
       "110512         0         False    False        40-50            -1  \n",
       "110513         0         False    False         0-10            -1  \n",
       "110514         0         False    False        50-60            -1  \n",
       "110516         0         False     True        30-40             0  \n",
       "110517         0         False    False        10-20            -1  \n",
       "\n",
       "[43780 rows x 14 columns]"
      ]
     },
     "execution_count": 45,
     "metadata": {},
     "output_type": "execute_result"
    }
   ],
   "source": [
    "appoints_clean[appoints_clean['waiting_days'] <= 0 ]"
   ]
  },
  {
   "cell_type": "code",
   "execution_count": 46,
   "metadata": {
    "scrolled": true
   },
   "outputs": [
    {
     "name": "stdout",
     "output_type": "stream",
     "text": [
      "Before : (110526, 14)\n",
      "After : (110521, 14)\n"
     ]
    }
   ],
   "source": [
    "print('Before : {}'.format(appoints_clean.shape))\n",
    "appoints_clean['waiting_days']  = appoints_clean['waiting_days'].replace(-2,np.nan).replace(-7,np.nan).replace(-1,0)\n",
    "appoints_clean.dropna(inplace=True)\n",
    "print('After : {}'.format(appoints_clean.shape))"
   ]
  },
  {
   "cell_type": "code",
   "execution_count": 47,
   "metadata": {},
   "outputs": [
    {
     "data": {
      "text/plain": [
       "0.0      43775\n",
       "1.0       6725\n",
       "3.0       5290\n",
       "6.0       4906\n",
       "5.0       4037\n",
       "         ...  \n",
       "81.0         1\n",
       "116.0        1\n",
       "131.0        1\n",
       "126.0        1\n",
       "124.0        1\n",
       "Name: waiting_days, Length: 128, dtype: int64"
      ]
     },
     "execution_count": 47,
     "metadata": {},
     "output_type": "execute_result"
    }
   ],
   "source": [
    "appoints_clean['waiting_days'].value_counts()"
   ]
  },
  {
   "cell_type": "code",
   "execution_count": 48,
   "metadata": {
    "scrolled": true
   },
   "outputs": [
    {
     "data": {
      "text/plain": [
       "waiting_days  no_show\n",
       "0.0           False      93.363792\n",
       "              True        6.636208\n",
       "1.0           False      76.178439\n",
       "              True       23.821561\n",
       "2.0           False      76.470588\n",
       "              True       23.529412\n",
       "3.0           False      76.729679\n",
       "              True       23.270321\n",
       "4.0           False      73.390296\n",
       "              True       26.609704\n",
       "Name: no_show, dtype: float64"
      ]
     },
     "execution_count": 48,
     "metadata": {},
     "output_type": "execute_result"
    }
   ],
   "source": [
    "appoints_clean.groupby('waiting_days')['no_show'].value_counts(normalize=True).sort_index()[:10]*100"
   ]
  },
  {
   "cell_type": "code",
   "execution_count": 49,
   "metadata": {},
   "outputs": [
    {
     "data": {
      "image/png": "[encoded data removed]",
      "text/plain": [
       "<Figure size 432x288 with 1 Axes>"
      ]
     },
     "metadata": {
      "needs_background": "light"
     },
     "output_type": "display_data"
    }
   ],
   "source": [
    "appoints_clean.loc[attended ,'waiting_days'].hist(alpha=0.5,range=[0,100],label='Attended');\n",
    "appoints_clean.loc[missed ,'waiting_days'].hist(alpha=0.5,range=[0,100],label='Missed');\n",
    "plt.title(\"Distribution for Waiting Days\", fontsize = 15)\n",
    "plt.xlabel('Waiting Days', fontsize = 12)\n",
    "plt.ylabel('Frequancy', fontsize = 12)\n",
    "plt.legend();"
   ]
  },
  {
   "cell_type": "markdown",
   "metadata": {},
   "source": [
    "### Conclusion :\n",
    "- **It seems that the waiting days have segnificant impact in attending the appointment.**\n",
    "- **increasing the waiting days between scheduled day and appointment day leads to a higher percentage for No-Show**"
   ]
  },
  {
   "cell_type": "markdown",
   "metadata": {},
   "source": [
    "<a id='limitations'></a>\n",
    "## Limitations\n",
    "\n",
    "- The dataset missing many helpful features like :\n",
    "    - the dataset not including patient address which could make helpful insights combined with the location of the hospital.\n",
    "    - the dataset not including which medical treatment  the patient had, it could make great insights for which medical treatments the patients tends to No-Show.\n",
    "    - there are missing in hour information at 'appointmentday' column which could be analyzed to get insights about most hour the patients tends to No-Show.\n",
    "    - the dataset not including for how long the patients had diseases ('hipertension','diabetes','alcoholism','handocap') , the patient behaviour could be changed after finding out about theses diseases. \n",
    "    - the sms_received could be more insightful if it states the datetime , it could be analyzed to get the best no. of days before appointment, the sms should be sent to remind the patient about appointmnet ."
   ]
  },
  {
   "cell_type": "markdown",
   "metadata": {},
   "source": [
    "<a id='conclusions'></a>\n",
    "## Conclusions\n",
    "\n",
    "- Gender has not effect on showing for schedualed appointment.\n",
    "- Age also has no clear correlation with attending the appointments.\n",
    "- Handcap has positive correlation with No-show 'missing' the appointments.\n",
    "- It seems that registering in the Scholarship program has no such great effect in making patients attend the appointments.\n",
    "- Sending SMS, unlike expected, don't significantly increase the percentage of attending the appointments .\n",
    "- It seems also that Hipertension,Diabetes,Alcoholism don't affect in No show percentage.\n",
    "- increasing the waiting days between scheduled day and appointment day leads to a higher percentage for No-show."
   ]
  }
 ],
 "metadata": {
  "kernelspec": {
   "display_name": "Python 3",
   "language": "python",
   "name": "python3"
  },
  "language_info": {
   "codemirror_mode": {
    "name": "ipython",
    "version": 3
   },
   "file_extension": ".py",
   "mimetype": "text/x-python",
   "name": "python",
   "nbconvert_exporter": "python",
   "pygments_lexer": "ipython3",
   "version": "3.7.7"
  }
 },
 "nbformat": 4,
 "nbformat_minor": 2
}
